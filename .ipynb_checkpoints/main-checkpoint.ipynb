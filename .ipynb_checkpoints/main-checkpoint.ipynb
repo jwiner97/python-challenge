{
 "cells": [
  {
   "cell_type": "code",
   "execution_count": 2,
   "metadata": {},
   "outputs": [],
   "source": [
    "#import csv\n",
    "import os\n",
    "import csv\n",
    "\n",
    "#path to collect data from CSV file\n",
    "path = 'budget_data.csv'\n",
    "\n",
    "#initialize variables\n",
    "total = 0\n",
    "counter = 0\n",
    "current = 0\n",
    "previous = 0\n",
    "previous_dec = 0\n",
    "changes = []\n",
    "current_increase = 0\n",
    "current_decrease = 0\n",
    "highest_month = ''\n",
    "lowest_month = ''\n",
    "\n",
    "#open CSV file and make sure it skips first row\n",
    "with open(path,'r', newline=\"\") as bankcsv:\n",
    "    BankData = csv.reader(bankcsv, delimiter=\",\")\n",
    "    header = next(BankData)\n",
    "    first_row = next(BankData)\n",
    "    #Setting up total counter which will loop through list and give total P&L as well as count up months\n",
    "    total = int(first_row[1]) + total\n",
    "    counter += 1\n",
    "    #Because our P&L increase and decrease is a comparison, we need to store the previous entry as a variable\n",
    "    #in this case, the first row of the data\n",
    "    previous = int(first_row[1])\n",
    "    previous_dec = int(first_row[1])\n",
    "    #for loop will loop through all entries in BankData and tick up the counter and total variables. \n",
    "    for entry in BankData:\n",
    "        total = int(entry[1]) + total\n",
    "        counter += 1\n",
    "        #Creates a separate changes list to house computed deltas\n",
    "        changes.append(int(entry[1]) - previous)\n",
    "        #compare P&L of entry to previous entry and evaluate whether it is larger or smaller than what's stored\n",
    "        #this will store the largest increase and decrease\n",
    "        if (int(entry[1]) - previous > current_increase):\n",
    "            current_increase = (int(entry[1]) - previous)\n",
    "            highest_month = entry[0]\n",
    "            previous = (int(entry[1]))\n",
    "        else:\n",
    "            previous = int(entry[1])\n",
    "        if (int(entry[1]) - previous_dec < current_decrease):\n",
    "            current_decrease = (int(entry[1]) - previous_dec)\n",
    "            lowest_month = entry[0]\n",
    "            previous_dec = (int(entry[1]))\n",
    "        else:\n",
    "            previous_dec = int(entry[1])"
   ]
  },
  {
   "cell_type": "code",
   "execution_count": 3,
   "metadata": {},
   "outputs": [],
   "source": [
    "#Loops through the Changes list created on line 37 above to find total change on beg date and end date\n",
    "total_change = 0\n",
    "for row in changes:\n",
    "        total_change = row + total_change"
   ]
  },
  {
   "cell_type": "code",
   "execution_count": 4,
   "metadata": {},
   "outputs": [],
   "source": [
    "#computes average of changes in profit/losses over period\n",
    "average = round(((total_change)/(counter - 1)),2)"
   ]
  },
  {
   "cell_type": "code",
   "execution_count": 5,
   "metadata": {},
   "outputs": [
    {
     "name": "stdout",
     "output_type": "stream",
     "text": [
      "Financial Analysis\n",
      "----------------------------\n",
      "Total Months: 86\n",
      "Total: $38382578\n",
      "Average Change: $-2315.12\n",
      "Greatest Increase in Profits: Feb-2012 ($1926159)\n",
      "Greatest Decrease in Profits: Sep-2013 ($-2196167)\n"
     ]
    }
   ],
   "source": [
    "#print results\n",
    "print(f'Financial Analysis')\n",
    "print(f'----------------------------')\n",
    "print(f'Total Months: {counter}')\n",
    "print(f'Total: ${total}')\n",
    "print(f'Average Change: ${average}')\n",
    "print(f'Greatest Increase in Profits: {highest_month} (${current_increase})')\n",
    "print(f'Greatest Decrease in Profits: {lowest_month} (${current_decrease})')"
   ]
  },
  {
   "cell_type": "code",
   "execution_count": null,
   "metadata": {},
   "outputs": [],
   "source": []
  }
 ],
 "metadata": {
  "kernelspec": {
   "display_name": "Python 3",
   "language": "python",
   "name": "python3"
  },
  "language_info": {
   "codemirror_mode": {
    "name": "ipython",
    "version": 3
   },
   "file_extension": ".py",
   "mimetype": "text/x-python",
   "name": "python",
   "nbconvert_exporter": "python",
   "pygments_lexer": "ipython3",
   "version": "3.7.0"
  }
 },
 "nbformat": 4,
 "nbformat_minor": 2
}
