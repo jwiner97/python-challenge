{
 "cells": [
  {
   "cell_type": "code",
   "execution_count": 1,
   "metadata": {},
   "outputs": [],
   "source": [
    "# The total number of votes cast\n",
    "# A complete list of candidates who received votes\n",
    "# The percentage of votes each candidate won\n",
    "# The total number of votes each candidate won\n",
    "# The winner of the election based on popular vote.\n",
    "# As an example, your analysis should look similar to the one below:\n",
    "\n",
    "\n",
    "#   Election Results\n",
    "#   -------------------------\n",
    "#   Total Votes: 3521001\n",
    "#   -------------------------\n",
    "#   Khan: 63.000% (2218231)\n",
    "#   Correy: 20.000% (704200)\n",
    "#   Li: 14.000% (492940)\n",
    "#   O'Tooley: 3.000% (105630)\n",
    "#   -------------------------\n",
    "#   Winner: Khan\n",
    "#   -------------------------\n",
    "\n",
    "# In addition, your final script should both print the analysis to the terminal and export a text file with the results."
   ]
  },
  {
   "cell_type": "code",
   "execution_count": 14,
   "metadata": {},
   "outputs": [],
   "source": [
    "#import csv\n",
    "import os\n",
    "import csv\n",
    "\n",
    "#path to collect data from CSV file\n",
    "path = 'election_data.csv'\n",
    "\n",
    "#initialize variables\n",
    "total_votes = 0\n",
    "khan_tally = 0\n",
    "correy_tally = 0\n",
    "li_tally = 0\n",
    "otooley_tally = 0\n",
    "winner = \"\"\n",
    "\n",
    "#open CSV file and make sure it skips first row\n",
    "with open(path,'r', newline=\"\") as pollcsv:\n",
    "    election_data = csv.reader(pollcsv, delimiter=\",\")\n",
    "    header = next(election_data)\n",
    "    first_row = next(election_data)\n",
    "    #sets starting point for all vote tallies\n",
    "    total_votes += 1\n",
    "    khan_tally += 1\n",
    "    correy_tally += 1\n",
    "    li_tally += 1\n",
    "    otooley_tally += 1\n",
    "    #for each line in the csv tally the vote to the total vote, note who the vote was cast for and add that vote to the appropriate tally\n",
    "    for row in election_data:\n",
    "        total_votes +=1\n",
    "        if row[2] == \"Khan\":\n",
    "            khan_tally += 1\n",
    "        elif row[2] == \"Correy\":\n",
    "            correy_tally += 1\n",
    "        elif row[2] == \"Li\":\n",
    "            li_tally += 1\n",
    "        elif row[2] == \"O'Tooley\":\n",
    "            otooley_tally +=1\n"
   ]
  },
  {
   "cell_type": "code",
   "execution_count": 15,
   "metadata": {},
   "outputs": [],
   "source": [
    "#calculate percentage of vote and assign to variables\n",
    "khan_percent = round(((khan_tally/total_votes)*100),3)\n",
    "correy_percent = round(((correy_tally/total_votes)*100),3)\n",
    "li_percent = round(((li_tally/total_votes)*100),3)\n",
    "otooley_percent = round(((otooley_tally/total_votes)*100),3)"
   ]
  },
  {
   "cell_type": "code",
   "execution_count": 16,
   "metadata": {},
   "outputs": [],
   "source": [
    "#create dictionary of winners and their number of votes, then use max to find the key with the largest value\n",
    "total_list = {'Khan': khan_tally,'Correy': correy_tally,'Li': li_tally,'OTooley': otooley_tally}\n",
    "winner = max(total_list, key=lambda key: total_list[key])"
   ]
  },
  {
   "cell_type": "code",
   "execution_count": 17,
   "metadata": {},
   "outputs": [
    {
     "name": "stdout",
     "output_type": "stream",
     "text": [
      "Election Results\n",
      "-------------------------\n",
      "Total Votes: 3521001\n",
      "-------------------------\n",
      "Khan: 63.0% (2218231)\n",
      "Correy: 20.0% (704201)\n",
      "Li: 14.0% (492941)\n",
      "O'Tooley: 3.0% (105631)\n",
      "-------------------------\n",
      "Winner: Khan\n",
      "-------------------------\n"
     ]
    }
   ],
   "source": [
    "#print results and export to txt\n",
    "with open(\"results.txt\", \"a\") as write_file:\n",
    "    print(f'Election Results', file=write_file)\n",
    "    print(f'-------------------------', file=write_file)\n",
    "    print(f'Total Votes: {total_votes}', file=write_file)\n",
    "    print(f'-------------------------', file=write_file)\n",
    "    print(f'Khan: {khan_percent}% ({khan_tally})', file=write_file)\n",
    "    print(f'Correy: {correy_percent}% ({correy_tally})', file=write_file)\n",
    "    print(f'Li: {li_percent}% ({li_tally})', file=write_file)\n",
    "    print(f'O\\'Tooley: {otooley_percent}% ({otooley_tally})', file=write_file)\n",
    "    print(f'-------------------------', file=write_file)\n",
    "    print(f'Winner: {winner}', file=write_file)\n",
    "    print(f'-------------------------', file=write_file)\n",
    "\n",
    "print(f'Election Results')\n",
    "print(f'-------------------------')\n",
    "print(f'Total Votes: {total_votes}')\n",
    "print(f'-------------------------')\n",
    "print(f'Khan: {khan_percent}% ({khan_tally})')\n",
    "print(f'Correy: {correy_percent}% ({correy_tally})')\n",
    "print(f'Li: {li_percent}% ({li_tally})')\n",
    "print(f'O\\'Tooley: {otooley_percent}% ({otooley_tally})')\n",
    "print(f'-------------------------')\n",
    "print(f'Winner: {winner}')\n",
    "print(f'-------------------------')"
   ]
  },
  {
   "cell_type": "code",
   "execution_count": null,
   "metadata": {},
   "outputs": [],
   "source": []
  },
  {
   "cell_type": "code",
   "execution_count": null,
   "metadata": {},
   "outputs": [],
   "source": []
  }
 ],
 "metadata": {
  "kernelspec": {
   "display_name": "Python 3",
   "language": "python",
   "name": "python3"
  },
  "language_info": {
   "codemirror_mode": {
    "name": "ipython",
    "version": 3
   },
   "file_extension": ".py",
   "mimetype": "text/x-python",
   "name": "python",
   "nbconvert_exporter": "python",
   "pygments_lexer": "ipython3",
   "version": "3.7.0"
  }
 },
 "nbformat": 4,
 "nbformat_minor": 2
}
